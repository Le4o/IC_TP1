{
 "metadata": {
  "language_info": {
   "codemirror_mode": {
    "name": "ipython",
    "version": 3
   },
   "file_extension": ".py",
   "mimetype": "text/x-python",
   "name": "python",
   "nbconvert_exporter": "python",
   "pygments_lexer": "ipython3",
   "version": "3.8.3"
  },
  "orig_nbformat": 2,
  "kernelspec": {
   "name": "python38364bit688e741d3283413da159222c204f218f",
   "display_name": "Python 3.8.3 64-bit"
  },
  "metadata": {
   "interpreter": {
    "hash": "2db524e06e9f5f4ffedc911c917cb75e12dbc923643829bf417064a77eb14d37"
   }
  }
 },
 "nbformat": 4,
 "nbformat_minor": 2,
 "cells": [
  {
   "source": [
    "# Dataset Preparation\n",
    "\n",
    "Converting csv file into Dataframe for preparing to data analysis."
   ],
   "cell_type": "markdown",
   "metadata": {}
  },
  {
   "cell_type": "code",
   "execution_count": 99,
   "metadata": {},
   "outputs": [],
   "source": [
    "import pandas as pd\n",
    "\n",
    "columns=['LocalCidade','LocalUF','LocalEstado','RegiaoBrasil','PopEstimada_2018','PopCenso_2010','IDHM','ReceitasRealizadas_2014','DespesasEmpenhadas_2014','Pib_2014']"
   ]
  },
  {
   "cell_type": "code",
   "execution_count": 100,
   "metadata": {},
   "outputs": [
    {
     "output_type": "execute_result",
     "data": {
      "text/plain": [
       "                LocalCidade LocalUF       LocalEstado RegiaoBrasil  \\\n",
       "0     ALTA FLORESTA D'OESTE      RO          Rondonia            N   \n",
       "1                 ARIQUEMES      RO          Rondonia            N   \n",
       "2                    CABIXI      RO          Rondonia            N   \n",
       "3                    CACOAL      RO          Rondonia            N   \n",
       "4                CEREJEIRAS      RO          Rondonia            N   \n",
       "...                     ...     ...               ...          ...   \n",
       "5565             VIANOPOLIS      GO             Goiás           CO   \n",
       "5566         VICENTINOPOLIS      GO             Goiás           CO   \n",
       "5567               VILA BOA      GO             Goiás           CO   \n",
       "5568          VILA PROPICIO      GO             Goiás           CO   \n",
       "5569               BRASILIA      DF  Distrito Federal           CO   \n",
       "\n",
       "      PopEstimada_2018  PopCenso_2010   IDHM  ReceitasRealizadas_2014  \\\n",
       "0                23167          24392  0,641                    53490   \n",
       "1               106168          90353  0,702                        0   \n",
       "2                 5438           6313   0,65                    22635   \n",
       "3                84813          78574  0,718                   169636   \n",
       "4                16444          17029  0,692                    53147   \n",
       "...                ...            ...    ...                      ...   \n",
       "5565             13746          12548  0,712                    37777   \n",
       "5566              8611           7371  0,684                    26783   \n",
       "5567              6026           4735  0,647                    17295   \n",
       "5568              5758           5145  0,634                    19148   \n",
       "5569           2974703        2570160  0,824                 20665448   \n",
       "\n",
       "      DespesasEmpenhadas_2014  Pib_2014  \n",
       "0                       47577  16461,11  \n",
       "1                           0  19401,43  \n",
       "2                       19354  18346,17  \n",
       "3                      155473  20725,23  \n",
       "4                       46774  22179,17  \n",
       "...                       ...       ...  \n",
       "5565                    33220  23237,24  \n",
       "5566                    23511  39480,36  \n",
       "5567                    15646  18992,37  \n",
       "5568                    16785  35691,39  \n",
       "5569                 19008773  73971,05  \n",
       "\n",
       "[5570 rows x 10 columns]"
      ],
      "text/html": "<div>\n<style scoped>\n    .dataframe tbody tr th:only-of-type {\n        vertical-align: middle;\n    }\n\n    .dataframe tbody tr th {\n        vertical-align: top;\n    }\n\n    .dataframe thead th {\n        text-align: right;\n    }\n</style>\n<table border=\"1\" class=\"dataframe\">\n  <thead>\n    <tr style=\"text-align: right;\">\n      <th></th>\n      <th>LocalCidade</th>\n      <th>LocalUF</th>\n      <th>LocalEstado</th>\n      <th>RegiaoBrasil</th>\n      <th>PopEstimada_2018</th>\n      <th>PopCenso_2010</th>\n      <th>IDHM</th>\n      <th>ReceitasRealizadas_2014</th>\n      <th>DespesasEmpenhadas_2014</th>\n      <th>Pib_2014</th>\n    </tr>\n  </thead>\n  <tbody>\n    <tr>\n      <th>0</th>\n      <td>ALTA FLORESTA D'OESTE</td>\n      <td>RO</td>\n      <td>Rondonia</td>\n      <td>N</td>\n      <td>23167</td>\n      <td>24392</td>\n      <td>0,641</td>\n      <td>53490</td>\n      <td>47577</td>\n      <td>16461,11</td>\n    </tr>\n    <tr>\n      <th>1</th>\n      <td>ARIQUEMES</td>\n      <td>RO</td>\n      <td>Rondonia</td>\n      <td>N</td>\n      <td>106168</td>\n      <td>90353</td>\n      <td>0,702</td>\n      <td>0</td>\n      <td>0</td>\n      <td>19401,43</td>\n    </tr>\n    <tr>\n      <th>2</th>\n      <td>CABIXI</td>\n      <td>RO</td>\n      <td>Rondonia</td>\n      <td>N</td>\n      <td>5438</td>\n      <td>6313</td>\n      <td>0,65</td>\n      <td>22635</td>\n      <td>19354</td>\n      <td>18346,17</td>\n    </tr>\n    <tr>\n      <th>3</th>\n      <td>CACOAL</td>\n      <td>RO</td>\n      <td>Rondonia</td>\n      <td>N</td>\n      <td>84813</td>\n      <td>78574</td>\n      <td>0,718</td>\n      <td>169636</td>\n      <td>155473</td>\n      <td>20725,23</td>\n    </tr>\n    <tr>\n      <th>4</th>\n      <td>CEREJEIRAS</td>\n      <td>RO</td>\n      <td>Rondonia</td>\n      <td>N</td>\n      <td>16444</td>\n      <td>17029</td>\n      <td>0,692</td>\n      <td>53147</td>\n      <td>46774</td>\n      <td>22179,17</td>\n    </tr>\n    <tr>\n      <th>...</th>\n      <td>...</td>\n      <td>...</td>\n      <td>...</td>\n      <td>...</td>\n      <td>...</td>\n      <td>...</td>\n      <td>...</td>\n      <td>...</td>\n      <td>...</td>\n      <td>...</td>\n    </tr>\n    <tr>\n      <th>5565</th>\n      <td>VIANOPOLIS</td>\n      <td>GO</td>\n      <td>Goiás</td>\n      <td>CO</td>\n      <td>13746</td>\n      <td>12548</td>\n      <td>0,712</td>\n      <td>37777</td>\n      <td>33220</td>\n      <td>23237,24</td>\n    </tr>\n    <tr>\n      <th>5566</th>\n      <td>VICENTINOPOLIS</td>\n      <td>GO</td>\n      <td>Goiás</td>\n      <td>CO</td>\n      <td>8611</td>\n      <td>7371</td>\n      <td>0,684</td>\n      <td>26783</td>\n      <td>23511</td>\n      <td>39480,36</td>\n    </tr>\n    <tr>\n      <th>5567</th>\n      <td>VILA BOA</td>\n      <td>GO</td>\n      <td>Goiás</td>\n      <td>CO</td>\n      <td>6026</td>\n      <td>4735</td>\n      <td>0,647</td>\n      <td>17295</td>\n      <td>15646</td>\n      <td>18992,37</td>\n    </tr>\n    <tr>\n      <th>5568</th>\n      <td>VILA PROPICIO</td>\n      <td>GO</td>\n      <td>Goiás</td>\n      <td>CO</td>\n      <td>5758</td>\n      <td>5145</td>\n      <td>0,634</td>\n      <td>19148</td>\n      <td>16785</td>\n      <td>35691,39</td>\n    </tr>\n    <tr>\n      <th>5569</th>\n      <td>BRASILIA</td>\n      <td>DF</td>\n      <td>Distrito Federal</td>\n      <td>CO</td>\n      <td>2974703</td>\n      <td>2570160</td>\n      <td>0,824</td>\n      <td>20665448</td>\n      <td>19008773</td>\n      <td>73971,05</td>\n    </tr>\n  </tbody>\n</table>\n<p>5570 rows × 10 columns</p>\n</div>"
     },
     "metadata": {},
     "execution_count": 100
    }
   ],
   "source": [
    "data = pd.read_csv (r'Cities_Brazil_IBGE.csv')\n",
    "df = pd.DataFrame(data, columns=columns)\n",
    "df"
   ]
  },
  {
   "cell_type": "code",
   "execution_count": 101,
   "metadata": {
    "tags": []
   },
   "outputs": [
    {
     "output_type": "execute_result",
     "data": {
      "text/plain": [
       "                LocalCidade LocalUF       LocalEstado RegiaoBrasil  \\\n",
       "0     ALTA FLORESTA D'OESTE      RO          Rondonia            N   \n",
       "2                    CABIXI      RO          Rondonia            N   \n",
       "3                    CACOAL      RO          Rondonia            N   \n",
       "4                CEREJEIRAS      RO          Rondonia            N   \n",
       "5          COLORADO D OESTE      RO          Rondonia            N   \n",
       "...                     ...     ...               ...          ...   \n",
       "5565             VIANOPOLIS      GO             Goiás           CO   \n",
       "5566         VICENTINOPOLIS      GO             Goiás           CO   \n",
       "5567               VILA BOA      GO             Goiás           CO   \n",
       "5568          VILA PROPICIO      GO             Goiás           CO   \n",
       "5569               BRASILIA      DF  Distrito Federal           CO   \n",
       "\n",
       "      PopEstimada_2018  PopCenso_2010   IDHM  ReceitasRealizadas_2014  \\\n",
       "0                23167          24392  0.641                    53490   \n",
       "2                 5438           6313  0.650                    22635   \n",
       "3                84813          78574  0.718                   169636   \n",
       "4                16444          17029  0.692                    53147   \n",
       "5                16227          18591  0.685                    34612   \n",
       "...                ...            ...    ...                      ...   \n",
       "5565             13746          12548  0.712                    37777   \n",
       "5566              8611           7371  0.684                    26783   \n",
       "5567              6026           4735  0.647                    17295   \n",
       "5568              5758           5145  0.634                    19148   \n",
       "5569           2974703        2570160  0.824                 20665448   \n",
       "\n",
       "      DespesasEmpenhadas_2014  Pib_2014  \n",
       "0                       47577  16461.11  \n",
       "2                       19354  18346.17  \n",
       "3                      155473  20725.23  \n",
       "4                       46774  22179.17  \n",
       "5                       34381  15300.88  \n",
       "...                       ...       ...  \n",
       "5565                    33220  23237.24  \n",
       "5566                    23511  39480.36  \n",
       "5567                    15646  18992.37  \n",
       "5568                    16785  35691.39  \n",
       "5569                 19008773  73971.05  \n",
       "\n",
       "[4618 rows x 10 columns]"
      ],
      "text/html": "<div>\n<style scoped>\n    .dataframe tbody tr th:only-of-type {\n        vertical-align: middle;\n    }\n\n    .dataframe tbody tr th {\n        vertical-align: top;\n    }\n\n    .dataframe thead th {\n        text-align: right;\n    }\n</style>\n<table border=\"1\" class=\"dataframe\">\n  <thead>\n    <tr style=\"text-align: right;\">\n      <th></th>\n      <th>LocalCidade</th>\n      <th>LocalUF</th>\n      <th>LocalEstado</th>\n      <th>RegiaoBrasil</th>\n      <th>PopEstimada_2018</th>\n      <th>PopCenso_2010</th>\n      <th>IDHM</th>\n      <th>ReceitasRealizadas_2014</th>\n      <th>DespesasEmpenhadas_2014</th>\n      <th>Pib_2014</th>\n    </tr>\n  </thead>\n  <tbody>\n    <tr>\n      <th>0</th>\n      <td>ALTA FLORESTA D'OESTE</td>\n      <td>RO</td>\n      <td>Rondonia</td>\n      <td>N</td>\n      <td>23167</td>\n      <td>24392</td>\n      <td>0.641</td>\n      <td>53490</td>\n      <td>47577</td>\n      <td>16461.11</td>\n    </tr>\n    <tr>\n      <th>2</th>\n      <td>CABIXI</td>\n      <td>RO</td>\n      <td>Rondonia</td>\n      <td>N</td>\n      <td>5438</td>\n      <td>6313</td>\n      <td>0.650</td>\n      <td>22635</td>\n      <td>19354</td>\n      <td>18346.17</td>\n    </tr>\n    <tr>\n      <th>3</th>\n      <td>CACOAL</td>\n      <td>RO</td>\n      <td>Rondonia</td>\n      <td>N</td>\n      <td>84813</td>\n      <td>78574</td>\n      <td>0.718</td>\n      <td>169636</td>\n      <td>155473</td>\n      <td>20725.23</td>\n    </tr>\n    <tr>\n      <th>4</th>\n      <td>CEREJEIRAS</td>\n      <td>RO</td>\n      <td>Rondonia</td>\n      <td>N</td>\n      <td>16444</td>\n      <td>17029</td>\n      <td>0.692</td>\n      <td>53147</td>\n      <td>46774</td>\n      <td>22179.17</td>\n    </tr>\n    <tr>\n      <th>5</th>\n      <td>COLORADO D OESTE</td>\n      <td>RO</td>\n      <td>Rondonia</td>\n      <td>N</td>\n      <td>16227</td>\n      <td>18591</td>\n      <td>0.685</td>\n      <td>34612</td>\n      <td>34381</td>\n      <td>15300.88</td>\n    </tr>\n    <tr>\n      <th>...</th>\n      <td>...</td>\n      <td>...</td>\n      <td>...</td>\n      <td>...</td>\n      <td>...</td>\n      <td>...</td>\n      <td>...</td>\n      <td>...</td>\n      <td>...</td>\n      <td>...</td>\n    </tr>\n    <tr>\n      <th>5565</th>\n      <td>VIANOPOLIS</td>\n      <td>GO</td>\n      <td>Goiás</td>\n      <td>CO</td>\n      <td>13746</td>\n      <td>12548</td>\n      <td>0.712</td>\n      <td>37777</td>\n      <td>33220</td>\n      <td>23237.24</td>\n    </tr>\n    <tr>\n      <th>5566</th>\n      <td>VICENTINOPOLIS</td>\n      <td>GO</td>\n      <td>Goiás</td>\n      <td>CO</td>\n      <td>8611</td>\n      <td>7371</td>\n      <td>0.684</td>\n      <td>26783</td>\n      <td>23511</td>\n      <td>39480.36</td>\n    </tr>\n    <tr>\n      <th>5567</th>\n      <td>VILA BOA</td>\n      <td>GO</td>\n      <td>Goiás</td>\n      <td>CO</td>\n      <td>6026</td>\n      <td>4735</td>\n      <td>0.647</td>\n      <td>17295</td>\n      <td>15646</td>\n      <td>18992.37</td>\n    </tr>\n    <tr>\n      <th>5568</th>\n      <td>VILA PROPICIO</td>\n      <td>GO</td>\n      <td>Goiás</td>\n      <td>CO</td>\n      <td>5758</td>\n      <td>5145</td>\n      <td>0.634</td>\n      <td>19148</td>\n      <td>16785</td>\n      <td>35691.39</td>\n    </tr>\n    <tr>\n      <th>5569</th>\n      <td>BRASILIA</td>\n      <td>DF</td>\n      <td>Distrito Federal</td>\n      <td>CO</td>\n      <td>2974703</td>\n      <td>2570160</td>\n      <td>0.824</td>\n      <td>20665448</td>\n      <td>19008773</td>\n      <td>73971.05</td>\n    </tr>\n  </tbody>\n</table>\n<p>4618 rows × 10 columns</p>\n</div>"
     },
     "metadata": {},
     "execution_count": 101
    }
   ],
   "source": [
    "def comma_to_dot(x): return float(str(x.replace(',', '.')))\n",
    "\n",
    "# Replacing commas with dots\n",
    "df['IDHM'] = df['IDHM'].apply(func)\n",
    "df['Pib_2014'] = df['Pib_2014'].apply(func)\n",
    "\n",
    "# Checking and removing rows with zero value\n",
    "df = df.drop(df[(df.ReceitasRealizadas_2014 == 0) | (df.PopCenso_2010 == 0) | (df.ReceitasRealizadas_2014 == 0) | (df.DespesasEmpenhadas_2014 == 0)].index)\n",
    "df"
   ]
  },
  {
   "cell_type": "code",
   "execution_count": null,
   "metadata": {},
   "outputs": [],
   "source": []
  }
 ]
}