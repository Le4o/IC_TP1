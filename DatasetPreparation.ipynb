{
 "metadata": {
  "language_info": {
   "codemirror_mode": {
    "name": "ipython",
    "version": 3
   },
   "file_extension": ".py",
   "mimetype": "text/x-python",
   "name": "python",
   "nbconvert_exporter": "python",
   "pygments_lexer": "ipython3",
   "version": "3.8.5-final"
  },
  "orig_nbformat": 2,
  "kernelspec": {
   "name": "python385jvsc74a57bd03578deb59bf7bfec47282bed83d2ac4d22fac4ed62f23c6e9094d8e9b3c925df",
   "display_name": "Python 3.8.5 64-bit ('victo': virtualenv)"
  },
  "metadata": {
   "interpreter": {
    "hash": "2db524e06e9f5f4ffedc911c917cb75e12dbc923643829bf417064a77eb14d37"
   }
  }
 },
 "nbformat": 4,
 "nbformat_minor": 2,
 "cells": [
  {
   "source": [
    "# Dataset Preparation\n",
    "\n",
    "Converting csv file into Dataframe for preparing to data analysis."
   ],
   "cell_type": "markdown",
   "metadata": {}
  },
  {
   "cell_type": "code",
   "execution_count": 136,
   "metadata": {},
   "outputs": [],
   "source": [
    "import pandas as pd\n",
    "\n",
    "columns=['LocalCidade','LocalUF','RegiaoBrasil','PopEstimada_2018','PopCenso_2010','IDHM','ReceitasRealizadas_2014','DespesasEmpenhadas_2014','Pib_2014']"
   ]
  },
  {
   "cell_type": "code",
   "execution_count": 137,
   "metadata": {},
   "outputs": [
    {
     "output_type": "execute_result",
     "data": {
      "text/plain": [
       "                LocalCidade LocalUF RegiaoBrasil  PopEstimada_2018  \\\n",
       "0     ALTA FLORESTA D'OESTE      RO            N             23167   \n",
       "1                 ARIQUEMES      RO            N            106168   \n",
       "2                    CABIXI      RO            N              5438   \n",
       "3                    CACOAL      RO            N             84813   \n",
       "4                CEREJEIRAS      RO            N             16444   \n",
       "...                     ...     ...          ...               ...   \n",
       "5565             VIANOPOLIS      GO           CO             13746   \n",
       "5566         VICENTINOPOLIS      GO           CO              8611   \n",
       "5567               VILA BOA      GO           CO              6026   \n",
       "5568          VILA PROPICIO      GO           CO              5758   \n",
       "5569               BRASILIA      DF           CO           2974703   \n",
       "\n",
       "      PopCenso_2010   IDHM  ReceitasRealizadas_2014  DespesasEmpenhadas_2014  \\\n",
       "0             24392  0,641                    53490                    47577   \n",
       "1             90353  0,702                        0                        0   \n",
       "2              6313   0,65                    22635                    19354   \n",
       "3             78574  0,718                   169636                   155473   \n",
       "4             17029  0,692                    53147                    46774   \n",
       "...             ...    ...                      ...                      ...   \n",
       "5565          12548  0,712                    37777                    33220   \n",
       "5566           7371  0,684                    26783                    23511   \n",
       "5567           4735  0,647                    17295                    15646   \n",
       "5568           5145  0,634                    19148                    16785   \n",
       "5569        2570160  0,824                 20665448                 19008773   \n",
       "\n",
       "      Pib_2014  \n",
       "0     16461,11  \n",
       "1     19401,43  \n",
       "2     18346,17  \n",
       "3     20725,23  \n",
       "4     22179,17  \n",
       "...        ...  \n",
       "5565  23237,24  \n",
       "5566  39480,36  \n",
       "5567  18992,37  \n",
       "5568  35691,39  \n",
       "5569  73971,05  \n",
       "\n",
       "[5570 rows x 9 columns]"
      ],
      "text/html": "<div>\n<style scoped>\n    .dataframe tbody tr th:only-of-type {\n        vertical-align: middle;\n    }\n\n    .dataframe tbody tr th {\n        vertical-align: top;\n    }\n\n    .dataframe thead th {\n        text-align: right;\n    }\n</style>\n<table border=\"1\" class=\"dataframe\">\n  <thead>\n    <tr style=\"text-align: right;\">\n      <th></th>\n      <th>LocalCidade</th>\n      <th>LocalUF</th>\n      <th>RegiaoBrasil</th>\n      <th>PopEstimada_2018</th>\n      <th>PopCenso_2010</th>\n      <th>IDHM</th>\n      <th>ReceitasRealizadas_2014</th>\n      <th>DespesasEmpenhadas_2014</th>\n      <th>Pib_2014</th>\n    </tr>\n  </thead>\n  <tbody>\n    <tr>\n      <th>0</th>\n      <td>ALTA FLORESTA D'OESTE</td>\n      <td>RO</td>\n      <td>N</td>\n      <td>23167</td>\n      <td>24392</td>\n      <td>0,641</td>\n      <td>53490</td>\n      <td>47577</td>\n      <td>16461,11</td>\n    </tr>\n    <tr>\n      <th>1</th>\n      <td>ARIQUEMES</td>\n      <td>RO</td>\n      <td>N</td>\n      <td>106168</td>\n      <td>90353</td>\n      <td>0,702</td>\n      <td>0</td>\n      <td>0</td>\n      <td>19401,43</td>\n    </tr>\n    <tr>\n      <th>2</th>\n      <td>CABIXI</td>\n      <td>RO</td>\n      <td>N</td>\n      <td>5438</td>\n      <td>6313</td>\n      <td>0,65</td>\n      <td>22635</td>\n      <td>19354</td>\n      <td>18346,17</td>\n    </tr>\n    <tr>\n      <th>3</th>\n      <td>CACOAL</td>\n      <td>RO</td>\n      <td>N</td>\n      <td>84813</td>\n      <td>78574</td>\n      <td>0,718</td>\n      <td>169636</td>\n      <td>155473</td>\n      <td>20725,23</td>\n    </tr>\n    <tr>\n      <th>4</th>\n      <td>CEREJEIRAS</td>\n      <td>RO</td>\n      <td>N</td>\n      <td>16444</td>\n      <td>17029</td>\n      <td>0,692</td>\n      <td>53147</td>\n      <td>46774</td>\n      <td>22179,17</td>\n    </tr>\n    <tr>\n      <th>...</th>\n      <td>...</td>\n      <td>...</td>\n      <td>...</td>\n      <td>...</td>\n      <td>...</td>\n      <td>...</td>\n      <td>...</td>\n      <td>...</td>\n      <td>...</td>\n    </tr>\n    <tr>\n      <th>5565</th>\n      <td>VIANOPOLIS</td>\n      <td>GO</td>\n      <td>CO</td>\n      <td>13746</td>\n      <td>12548</td>\n      <td>0,712</td>\n      <td>37777</td>\n      <td>33220</td>\n      <td>23237,24</td>\n    </tr>\n    <tr>\n      <th>5566</th>\n      <td>VICENTINOPOLIS</td>\n      <td>GO</td>\n      <td>CO</td>\n      <td>8611</td>\n      <td>7371</td>\n      <td>0,684</td>\n      <td>26783</td>\n      <td>23511</td>\n      <td>39480,36</td>\n    </tr>\n    <tr>\n      <th>5567</th>\n      <td>VILA BOA</td>\n      <td>GO</td>\n      <td>CO</td>\n      <td>6026</td>\n      <td>4735</td>\n      <td>0,647</td>\n      <td>17295</td>\n      <td>15646</td>\n      <td>18992,37</td>\n    </tr>\n    <tr>\n      <th>5568</th>\n      <td>VILA PROPICIO</td>\n      <td>GO</td>\n      <td>CO</td>\n      <td>5758</td>\n      <td>5145</td>\n      <td>0,634</td>\n      <td>19148</td>\n      <td>16785</td>\n      <td>35691,39</td>\n    </tr>\n    <tr>\n      <th>5569</th>\n      <td>BRASILIA</td>\n      <td>DF</td>\n      <td>CO</td>\n      <td>2974703</td>\n      <td>2570160</td>\n      <td>0,824</td>\n      <td>20665448</td>\n      <td>19008773</td>\n      <td>73971,05</td>\n    </tr>\n  </tbody>\n</table>\n<p>5570 rows × 9 columns</p>\n</div>"
     },
     "metadata": {},
     "execution_count": 137
    }
   ],
   "source": [
    "data = pd.read_csv (r'data/Cities_Brazil_IBGE.csv')\n",
    "df = pd.DataFrame(data, columns=columns)\n",
    "df"
   ]
  },
  {
   "cell_type": "code",
   "execution_count": 138,
   "metadata": {},
   "outputs": [],
   "source": [
    "def idh_to_rank(x):\r\n",
    "    a=0\r\n",
    "    if x>0 and x<0.350: a = 1     \r\n",
    "    elif x<0.555: a = 2\r\n",
    "    elif x<0.700: a = 3\r\n",
    "    elif x<0.800: a = 4\r\n",
    "    elif x<=1: a = 5\r\n",
    "    return int(a)"
   ]
  },
  {
   "cell_type": "code",
   "execution_count": 139,
   "metadata": {
    "tags": []
   },
   "outputs": [
    {
     "output_type": "execute_result",
     "data": {
      "text/plain": [
       "                LocalCidade RegiaoBrasil  PopEstimada_2018  PopCenso_2010  \\\n",
       "0     ALTA FLORESTA D'OESTE            N             23167          24392   \n",
       "2                    CABIXI            N              5438           6313   \n",
       "3                    CACOAL            N             84813          78574   \n",
       "4                CEREJEIRAS            N             16444          17029   \n",
       "5          COLORADO D OESTE            N             16227          18591   \n",
       "...                     ...          ...               ...            ...   \n",
       "5565             VIANOPOLIS           CO             13746          12548   \n",
       "5566         VICENTINOPOLIS           CO              8611           7371   \n",
       "5567               VILA BOA           CO              6026           4735   \n",
       "5568          VILA PROPICIO           CO              5758           5145   \n",
       "5569               BRASILIA           CO           2974703        2570160   \n",
       "\n",
       "      IDHM  ReceitasRealizadas_2014  DespesasEmpenhadas_2014  Pib_2014  \\\n",
       "0        3                    53490                    47577  16461.11   \n",
       "2        3                    22635                    19354  18346.17   \n",
       "3        4                   169636                   155473  20725.23   \n",
       "4        3                    53147                    46774  22179.17   \n",
       "5        3                    34612                    34381  15300.88   \n",
       "...    ...                      ...                      ...       ...   \n",
       "5565     4                    37777                    33220  23237.24   \n",
       "5566     3                    26783                    23511  39480.36   \n",
       "5567     3                    17295                    15646  18992.37   \n",
       "5568     3                    19148                    16785  35691.39   \n",
       "5569     5                 20665448                 19008773  73971.05   \n",
       "\n",
       "      LocalUF_AC  LocalUF_AL  ...  LocalUF_PR  LocalUF_RJ  LocalUF_RN  \\\n",
       "0              0           0  ...           0           0           0   \n",
       "2              0           0  ...           0           0           0   \n",
       "3              0           0  ...           0           0           0   \n",
       "4              0           0  ...           0           0           0   \n",
       "5              0           0  ...           0           0           0   \n",
       "...          ...         ...  ...         ...         ...         ...   \n",
       "5565           0           0  ...           0           0           0   \n",
       "5566           0           0  ...           0           0           0   \n",
       "5567           0           0  ...           0           0           0   \n",
       "5568           0           0  ...           0           0           0   \n",
       "5569           0           0  ...           0           0           0   \n",
       "\n",
       "      LocalUF_RO  LocalUF_RR  LocalUF_RS  LocalUF_SC  LocalUF_SE  LocalUF_SP  \\\n",
       "0              1           0           0           0           0           0   \n",
       "2              1           0           0           0           0           0   \n",
       "3              1           0           0           0           0           0   \n",
       "4              1           0           0           0           0           0   \n",
       "5              1           0           0           0           0           0   \n",
       "...          ...         ...         ...         ...         ...         ...   \n",
       "5565           0           0           0           0           0           0   \n",
       "5566           0           0           0           0           0           0   \n",
       "5567           0           0           0           0           0           0   \n",
       "5568           0           0           0           0           0           0   \n",
       "5569           0           0           0           0           0           0   \n",
       "\n",
       "      LocalUF_TO  \n",
       "0              0  \n",
       "2              0  \n",
       "3              0  \n",
       "4              0  \n",
       "5              0  \n",
       "...          ...  \n",
       "5565           0  \n",
       "5566           0  \n",
       "5567           0  \n",
       "5568           0  \n",
       "5569           0  \n",
       "\n",
       "[4618 rows x 35 columns]"
      ],
      "text/html": "<div>\n<style scoped>\n    .dataframe tbody tr th:only-of-type {\n        vertical-align: middle;\n    }\n\n    .dataframe tbody tr th {\n        vertical-align: top;\n    }\n\n    .dataframe thead th {\n        text-align: right;\n    }\n</style>\n<table border=\"1\" class=\"dataframe\">\n  <thead>\n    <tr style=\"text-align: right;\">\n      <th></th>\n      <th>LocalCidade</th>\n      <th>RegiaoBrasil</th>\n      <th>PopEstimada_2018</th>\n      <th>PopCenso_2010</th>\n      <th>IDHM</th>\n      <th>ReceitasRealizadas_2014</th>\n      <th>DespesasEmpenhadas_2014</th>\n      <th>Pib_2014</th>\n      <th>LocalUF_AC</th>\n      <th>LocalUF_AL</th>\n      <th>...</th>\n      <th>LocalUF_PR</th>\n      <th>LocalUF_RJ</th>\n      <th>LocalUF_RN</th>\n      <th>LocalUF_RO</th>\n      <th>LocalUF_RR</th>\n      <th>LocalUF_RS</th>\n      <th>LocalUF_SC</th>\n      <th>LocalUF_SE</th>\n      <th>LocalUF_SP</th>\n      <th>LocalUF_TO</th>\n    </tr>\n  </thead>\n  <tbody>\n    <tr>\n      <th>0</th>\n      <td>ALTA FLORESTA D'OESTE</td>\n      <td>N</td>\n      <td>23167</td>\n      <td>24392</td>\n      <td>3</td>\n      <td>53490</td>\n      <td>47577</td>\n      <td>16461.11</td>\n      <td>0</td>\n      <td>0</td>\n      <td>...</td>\n      <td>0</td>\n      <td>0</td>\n      <td>0</td>\n      <td>1</td>\n      <td>0</td>\n      <td>0</td>\n      <td>0</td>\n      <td>0</td>\n      <td>0</td>\n      <td>0</td>\n    </tr>\n    <tr>\n      <th>2</th>\n      <td>CABIXI</td>\n      <td>N</td>\n      <td>5438</td>\n      <td>6313</td>\n      <td>3</td>\n      <td>22635</td>\n      <td>19354</td>\n      <td>18346.17</td>\n      <td>0</td>\n      <td>0</td>\n      <td>...</td>\n      <td>0</td>\n      <td>0</td>\n      <td>0</td>\n      <td>1</td>\n      <td>0</td>\n      <td>0</td>\n      <td>0</td>\n      <td>0</td>\n      <td>0</td>\n      <td>0</td>\n    </tr>\n    <tr>\n      <th>3</th>\n      <td>CACOAL</td>\n      <td>N</td>\n      <td>84813</td>\n      <td>78574</td>\n      <td>4</td>\n      <td>169636</td>\n      <td>155473</td>\n      <td>20725.23</td>\n      <td>0</td>\n      <td>0</td>\n      <td>...</td>\n      <td>0</td>\n      <td>0</td>\n      <td>0</td>\n      <td>1</td>\n      <td>0</td>\n      <td>0</td>\n      <td>0</td>\n      <td>0</td>\n      <td>0</td>\n      <td>0</td>\n    </tr>\n    <tr>\n      <th>4</th>\n      <td>CEREJEIRAS</td>\n      <td>N</td>\n      <td>16444</td>\n      <td>17029</td>\n      <td>3</td>\n      <td>53147</td>\n      <td>46774</td>\n      <td>22179.17</td>\n      <td>0</td>\n      <td>0</td>\n      <td>...</td>\n      <td>0</td>\n      <td>0</td>\n      <td>0</td>\n      <td>1</td>\n      <td>0</td>\n      <td>0</td>\n      <td>0</td>\n      <td>0</td>\n      <td>0</td>\n      <td>0</td>\n    </tr>\n    <tr>\n      <th>5</th>\n      <td>COLORADO D OESTE</td>\n      <td>N</td>\n      <td>16227</td>\n      <td>18591</td>\n      <td>3</td>\n      <td>34612</td>\n      <td>34381</td>\n      <td>15300.88</td>\n      <td>0</td>\n      <td>0</td>\n      <td>...</td>\n      <td>0</td>\n      <td>0</td>\n      <td>0</td>\n      <td>1</td>\n      <td>0</td>\n      <td>0</td>\n      <td>0</td>\n      <td>0</td>\n      <td>0</td>\n      <td>0</td>\n    </tr>\n    <tr>\n      <th>...</th>\n      <td>...</td>\n      <td>...</td>\n      <td>...</td>\n      <td>...</td>\n      <td>...</td>\n      <td>...</td>\n      <td>...</td>\n      <td>...</td>\n      <td>...</td>\n      <td>...</td>\n      <td>...</td>\n      <td>...</td>\n      <td>...</td>\n      <td>...</td>\n      <td>...</td>\n      <td>...</td>\n      <td>...</td>\n      <td>...</td>\n      <td>...</td>\n      <td>...</td>\n      <td>...</td>\n    </tr>\n    <tr>\n      <th>5565</th>\n      <td>VIANOPOLIS</td>\n      <td>CO</td>\n      <td>13746</td>\n      <td>12548</td>\n      <td>4</td>\n      <td>37777</td>\n      <td>33220</td>\n      <td>23237.24</td>\n      <td>0</td>\n      <td>0</td>\n      <td>...</td>\n      <td>0</td>\n      <td>0</td>\n      <td>0</td>\n      <td>0</td>\n      <td>0</td>\n      <td>0</td>\n      <td>0</td>\n      <td>0</td>\n      <td>0</td>\n      <td>0</td>\n    </tr>\n    <tr>\n      <th>5566</th>\n      <td>VICENTINOPOLIS</td>\n      <td>CO</td>\n      <td>8611</td>\n      <td>7371</td>\n      <td>3</td>\n      <td>26783</td>\n      <td>23511</td>\n      <td>39480.36</td>\n      <td>0</td>\n      <td>0</td>\n      <td>...</td>\n      <td>0</td>\n      <td>0</td>\n      <td>0</td>\n      <td>0</td>\n      <td>0</td>\n      <td>0</td>\n      <td>0</td>\n      <td>0</td>\n      <td>0</td>\n      <td>0</td>\n    </tr>\n    <tr>\n      <th>5567</th>\n      <td>VILA BOA</td>\n      <td>CO</td>\n      <td>6026</td>\n      <td>4735</td>\n      <td>3</td>\n      <td>17295</td>\n      <td>15646</td>\n      <td>18992.37</td>\n      <td>0</td>\n      <td>0</td>\n      <td>...</td>\n      <td>0</td>\n      <td>0</td>\n      <td>0</td>\n      <td>0</td>\n      <td>0</td>\n      <td>0</td>\n      <td>0</td>\n      <td>0</td>\n      <td>0</td>\n      <td>0</td>\n    </tr>\n    <tr>\n      <th>5568</th>\n      <td>VILA PROPICIO</td>\n      <td>CO</td>\n      <td>5758</td>\n      <td>5145</td>\n      <td>3</td>\n      <td>19148</td>\n      <td>16785</td>\n      <td>35691.39</td>\n      <td>0</td>\n      <td>0</td>\n      <td>...</td>\n      <td>0</td>\n      <td>0</td>\n      <td>0</td>\n      <td>0</td>\n      <td>0</td>\n      <td>0</td>\n      <td>0</td>\n      <td>0</td>\n      <td>0</td>\n      <td>0</td>\n    </tr>\n    <tr>\n      <th>5569</th>\n      <td>BRASILIA</td>\n      <td>CO</td>\n      <td>2974703</td>\n      <td>2570160</td>\n      <td>5</td>\n      <td>20665448</td>\n      <td>19008773</td>\n      <td>73971.05</td>\n      <td>0</td>\n      <td>0</td>\n      <td>...</td>\n      <td>0</td>\n      <td>0</td>\n      <td>0</td>\n      <td>0</td>\n      <td>0</td>\n      <td>0</td>\n      <td>0</td>\n      <td>0</td>\n      <td>0</td>\n      <td>0</td>\n    </tr>\n  </tbody>\n</table>\n<p>4618 rows × 35 columns</p>\n</div>"
     },
     "metadata": {},
     "execution_count": 139
    }
   ],
   "source": [
    "def comma_to_dot(x): return float(str(x).replace(',', '.'))\n",
    "string_columns = ['LocalUF']\n",
    "# Replacing commas with dots\n",
    "df['IDHM'] = df['IDHM'].apply(comma_to_dot)\n",
    "df['Pib_2014'] = df['Pib_2014'].apply(comma_to_dot)\n",
    "#Transformar IDH em Rank\n",
    "df['IDHM'] = df['IDHM'].apply(idh_to_rank)\n",
    "# Checking and removing rows with zero value\n",
    "df = df.drop(df[(df.PopEstimada_2018 == 0) | (df.PopCenso_2010 == 0) | (df.ReceitasRealizadas_2014 == 0) | (df.DespesasEmpenhadas_2014 == 0)].index)\n",
    "data = pd.get_dummies(df, columns= string_columns)\n",
    "data"
   ]
  },
  {
   "cell_type": "code",
   "execution_count": 140,
   "metadata": {},
   "outputs": [],
   "source": [
    "data.to_csv(path_or_buf=r'data/DATA_F.csv')"
   ]
  },
  {
   "cell_type": "code",
   "execution_count": null,
   "metadata": {},
   "outputs": [],
   "source": []
  }
 ]
}