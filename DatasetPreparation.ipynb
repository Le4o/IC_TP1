{
 "metadata": {
  "language_info": {
   "codemirror_mode": {
    "name": "ipython",
    "version": 3
   },
   "file_extension": ".py",
   "mimetype": "text/x-python",
   "name": "python",
   "nbconvert_exporter": "python",
   "pygments_lexer": "ipython3",
   "version": "3.8.5-final"
  },
  "orig_nbformat": 2,
  "kernelspec": {
   "name": "python385jvsc74a57bd03578deb59bf7bfec47282bed83d2ac4d22fac4ed62f23c6e9094d8e9b3c925df",
   "display_name": "Python 3.8.5 64-bit (conda)"
  },
  "metadata": {
   "interpreter": {
    "hash": "916dbcbb3f70747c44a77c7bcd40155683ae19c65e1c03b4aa3499c5328201f1"
   }
  }
 },
 "nbformat": 4,
 "nbformat_minor": 2,
 "cells": [
  {
   "source": [
    "# Dataset Preparation\n",
    "\n",
    "Convertendo o arquivo csv em um Dataframe para preparação da análise de dados."
   ],
   "cell_type": "markdown",
   "metadata": {}
  },
  {
   "cell_type": "code",
   "execution_count": 16,
   "metadata": {},
   "outputs": [],
   "source": [
    "import pandas as pd\n",
    "columns=['LocalCidade','LocalUF','RegiaoBrasil','PopEstimada_2018','PopCenso_2010','IDHM','ReceitasRealizadas_2014','DespesasEmpenhadas_2014','Pib_2014']"
   ]
  },
  {
   "cell_type": "code",
   "execution_count": 17,
   "metadata": {},
   "outputs": [
    {
     "output_type": "execute_result",
     "data": {
      "text/plain": [
       "                LocalCidade LocalUF RegiaoBrasil  PopEstimada_2018  \\\n",
       "0     ALTA FLORESTA D'OESTE      RO            N             23167   \n",
       "1                 ARIQUEMES      RO            N            106168   \n",
       "2                    CABIXI      RO            N              5438   \n",
       "3                    CACOAL      RO            N             84813   \n",
       "4                CEREJEIRAS      RO            N             16444   \n",
       "...                     ...     ...          ...               ...   \n",
       "5565             VIANOPOLIS      GO           CO             13746   \n",
       "5566         VICENTINOPOLIS      GO           CO              8611   \n",
       "5567               VILA BOA      GO           CO              6026   \n",
       "5568          VILA PROPICIO      GO           CO              5758   \n",
       "5569               BRASILIA      DF           CO           2974703   \n",
       "\n",
       "      PopCenso_2010   IDHM  ReceitasRealizadas_2014  DespesasEmpenhadas_2014  \\\n",
       "0             24392  0,641                    53490                    47577   \n",
       "1             90353  0,702                        0                        0   \n",
       "2              6313   0,65                    22635                    19354   \n",
       "3             78574  0,718                   169636                   155473   \n",
       "4             17029  0,692                    53147                    46774   \n",
       "...             ...    ...                      ...                      ...   \n",
       "5565          12548  0,712                    37777                    33220   \n",
       "5566           7371  0,684                    26783                    23511   \n",
       "5567           4735  0,647                    17295                    15646   \n",
       "5568           5145  0,634                    19148                    16785   \n",
       "5569        2570160  0,824                 20665448                 19008773   \n",
       "\n",
       "      Pib_2014  \n",
       "0     16461,11  \n",
       "1     19401,43  \n",
       "2     18346,17  \n",
       "3     20725,23  \n",
       "4     22179,17  \n",
       "...        ...  \n",
       "5565  23237,24  \n",
       "5566  39480,36  \n",
       "5567  18992,37  \n",
       "5568  35691,39  \n",
       "5569  73971,05  \n",
       "\n",
       "[5570 rows x 9 columns]"
      ],
      "text/html": "<div>\n<style scoped>\n    .dataframe tbody tr th:only-of-type {\n        vertical-align: middle;\n    }\n\n    .dataframe tbody tr th {\n        vertical-align: top;\n    }\n\n    .dataframe thead th {\n        text-align: right;\n    }\n</style>\n<table border=\"1\" class=\"dataframe\">\n  <thead>\n    <tr style=\"text-align: right;\">\n      <th></th>\n      <th>LocalCidade</th>\n      <th>LocalUF</th>\n      <th>RegiaoBrasil</th>\n      <th>PopEstimada_2018</th>\n      <th>PopCenso_2010</th>\n      <th>IDHM</th>\n      <th>ReceitasRealizadas_2014</th>\n      <th>DespesasEmpenhadas_2014</th>\n      <th>Pib_2014</th>\n    </tr>\n  </thead>\n  <tbody>\n    <tr>\n      <th>0</th>\n      <td>ALTA FLORESTA D'OESTE</td>\n      <td>RO</td>\n      <td>N</td>\n      <td>23167</td>\n      <td>24392</td>\n      <td>0,641</td>\n      <td>53490</td>\n      <td>47577</td>\n      <td>16461,11</td>\n    </tr>\n    <tr>\n      <th>1</th>\n      <td>ARIQUEMES</td>\n      <td>RO</td>\n      <td>N</td>\n      <td>106168</td>\n      <td>90353</td>\n      <td>0,702</td>\n      <td>0</td>\n      <td>0</td>\n      <td>19401,43</td>\n    </tr>\n    <tr>\n      <th>2</th>\n      <td>CABIXI</td>\n      <td>RO</td>\n      <td>N</td>\n      <td>5438</td>\n      <td>6313</td>\n      <td>0,65</td>\n      <td>22635</td>\n      <td>19354</td>\n      <td>18346,17</td>\n    </tr>\n    <tr>\n      <th>3</th>\n      <td>CACOAL</td>\n      <td>RO</td>\n      <td>N</td>\n      <td>84813</td>\n      <td>78574</td>\n      <td>0,718</td>\n      <td>169636</td>\n      <td>155473</td>\n      <td>20725,23</td>\n    </tr>\n    <tr>\n      <th>4</th>\n      <td>CEREJEIRAS</td>\n      <td>RO</td>\n      <td>N</td>\n      <td>16444</td>\n      <td>17029</td>\n      <td>0,692</td>\n      <td>53147</td>\n      <td>46774</td>\n      <td>22179,17</td>\n    </tr>\n    <tr>\n      <th>...</th>\n      <td>...</td>\n      <td>...</td>\n      <td>...</td>\n      <td>...</td>\n      <td>...</td>\n      <td>...</td>\n      <td>...</td>\n      <td>...</td>\n      <td>...</td>\n    </tr>\n    <tr>\n      <th>5565</th>\n      <td>VIANOPOLIS</td>\n      <td>GO</td>\n      <td>CO</td>\n      <td>13746</td>\n      <td>12548</td>\n      <td>0,712</td>\n      <td>37777</td>\n      <td>33220</td>\n      <td>23237,24</td>\n    </tr>\n    <tr>\n      <th>5566</th>\n      <td>VICENTINOPOLIS</td>\n      <td>GO</td>\n      <td>CO</td>\n      <td>8611</td>\n      <td>7371</td>\n      <td>0,684</td>\n      <td>26783</td>\n      <td>23511</td>\n      <td>39480,36</td>\n    </tr>\n    <tr>\n      <th>5567</th>\n      <td>VILA BOA</td>\n      <td>GO</td>\n      <td>CO</td>\n      <td>6026</td>\n      <td>4735</td>\n      <td>0,647</td>\n      <td>17295</td>\n      <td>15646</td>\n      <td>18992,37</td>\n    </tr>\n    <tr>\n      <th>5568</th>\n      <td>VILA PROPICIO</td>\n      <td>GO</td>\n      <td>CO</td>\n      <td>5758</td>\n      <td>5145</td>\n      <td>0,634</td>\n      <td>19148</td>\n      <td>16785</td>\n      <td>35691,39</td>\n    </tr>\n    <tr>\n      <th>5569</th>\n      <td>BRASILIA</td>\n      <td>DF</td>\n      <td>CO</td>\n      <td>2974703</td>\n      <td>2570160</td>\n      <td>0,824</td>\n      <td>20665448</td>\n      <td>19008773</td>\n      <td>73971,05</td>\n    </tr>\n  </tbody>\n</table>\n<p>5570 rows × 9 columns</p>\n</div>"
     },
     "metadata": {},
     "execution_count": 17
    }
   ],
   "source": [
    "data = pd.read_csv (r'data/Cities_Brazil_IBGE.csv')\n",
    "df = pd.DataFrame(data, columns=columns)\n",
    "df"
   ]
  },
  {
   "cell_type": "code",
   "execution_count": 18,
   "metadata": {},
   "outputs": [],
   "source": [
    "def comma_to_dot(x): return float(str(x).replace(',', '.'))\n",
    "\n",
    "def idh_to_rank(x, a=0):\n",
    "    if x>0 and x<0.350: a = 1     \n",
    "    elif x < 0.555: a = 2\n",
    "    elif x < 0.700: a = 3\n",
    "    elif x < 0.800: a = 4\n",
    "    elif x <= 1: a = 5\n",
    "    return int(a)"
   ]
  },
  {
   "cell_type": "code",
   "execution_count": 19,
   "metadata": {
    "tags": []
   },
   "outputs": [
    {
     "output_type": "execute_result",
     "data": {
      "text/plain": [
       "                LocalCidade LocalUF  PopEstimada_2018  PopCenso_2010  IDHM  \\\n",
       "0     ALTA FLORESTA D'OESTE      RO             23167          24392     3   \n",
       "2                    CABIXI      RO              5438           6313     3   \n",
       "3                    CACOAL      RO             84813          78574     4   \n",
       "4                CEREJEIRAS      RO             16444          17029     3   \n",
       "5          COLORADO D OESTE      RO             16227          18591     3   \n",
       "...                     ...     ...               ...            ...   ...   \n",
       "5564                 VARJAO      GO              3816           3659     3   \n",
       "5565             VIANOPOLIS      GO             13746          12548     4   \n",
       "5566         VICENTINOPOLIS      GO              8611           7371     3   \n",
       "5567               VILA BOA      GO              6026           4735     3   \n",
       "5568          VILA PROPICIO      GO              5758           5145     3   \n",
       "\n",
       "      ReceitasRealizadas_2014  DespesasEmpenhadas_2014  Pib_2014  \\\n",
       "0                       53490                    47577  16461.11   \n",
       "2                       22635                    19354  18346.17   \n",
       "3                      169636                   155473  20725.23   \n",
       "4                       53147                    46774  22179.17   \n",
       "5                       34612                    34381  15300.88   \n",
       "...                       ...                      ...       ...   \n",
       "5564                    14086                    13050  14566.03   \n",
       "5565                    37777                    33220  23237.24   \n",
       "5566                    26783                    23511  39480.36   \n",
       "5567                    17295                    15646  18992.37   \n",
       "5568                    19148                    16785  35691.39   \n",
       "\n",
       "      RegiaoBrasil_CO  RegiaoBrasil_N  RegiaoBrasil_NE  RegiaoBrasil_SE  \\\n",
       "0                   0               1                0                0   \n",
       "2                   0               1                0                0   \n",
       "3                   0               1                0                0   \n",
       "4                   0               1                0                0   \n",
       "5                   0               1                0                0   \n",
       "...               ...             ...              ...              ...   \n",
       "5564                1               0                0                0   \n",
       "5565                1               0                0                0   \n",
       "5566                1               0                0                0   \n",
       "5567                1               0                0                0   \n",
       "5568                1               0                0                0   \n",
       "\n",
       "      RegiaoBrasil_SUL  \n",
       "0                    0  \n",
       "2                    0  \n",
       "3                    0  \n",
       "4                    0  \n",
       "5                    0  \n",
       "...                ...  \n",
       "5564                 0  \n",
       "5565                 0  \n",
       "5566                 0  \n",
       "5567                 0  \n",
       "5568                 0  \n",
       "\n",
       "[4419 rows x 13 columns]"
      ],
      "text/html": "<div>\n<style scoped>\n    .dataframe tbody tr th:only-of-type {\n        vertical-align: middle;\n    }\n\n    .dataframe tbody tr th {\n        vertical-align: top;\n    }\n\n    .dataframe thead th {\n        text-align: right;\n    }\n</style>\n<table border=\"1\" class=\"dataframe\">\n  <thead>\n    <tr style=\"text-align: right;\">\n      <th></th>\n      <th>LocalCidade</th>\n      <th>LocalUF</th>\n      <th>PopEstimada_2018</th>\n      <th>PopCenso_2010</th>\n      <th>IDHM</th>\n      <th>ReceitasRealizadas_2014</th>\n      <th>DespesasEmpenhadas_2014</th>\n      <th>Pib_2014</th>\n      <th>RegiaoBrasil_CO</th>\n      <th>RegiaoBrasil_N</th>\n      <th>RegiaoBrasil_NE</th>\n      <th>RegiaoBrasil_SE</th>\n      <th>RegiaoBrasil_SUL</th>\n    </tr>\n  </thead>\n  <tbody>\n    <tr>\n      <th>0</th>\n      <td>ALTA FLORESTA D'OESTE</td>\n      <td>RO</td>\n      <td>23167</td>\n      <td>24392</td>\n      <td>3</td>\n      <td>53490</td>\n      <td>47577</td>\n      <td>16461.11</td>\n      <td>0</td>\n      <td>1</td>\n      <td>0</td>\n      <td>0</td>\n      <td>0</td>\n    </tr>\n    <tr>\n      <th>2</th>\n      <td>CABIXI</td>\n      <td>RO</td>\n      <td>5438</td>\n      <td>6313</td>\n      <td>3</td>\n      <td>22635</td>\n      <td>19354</td>\n      <td>18346.17</td>\n      <td>0</td>\n      <td>1</td>\n      <td>0</td>\n      <td>0</td>\n      <td>0</td>\n    </tr>\n    <tr>\n      <th>3</th>\n      <td>CACOAL</td>\n      <td>RO</td>\n      <td>84813</td>\n      <td>78574</td>\n      <td>4</td>\n      <td>169636</td>\n      <td>155473</td>\n      <td>20725.23</td>\n      <td>0</td>\n      <td>1</td>\n      <td>0</td>\n      <td>0</td>\n      <td>0</td>\n    </tr>\n    <tr>\n      <th>4</th>\n      <td>CEREJEIRAS</td>\n      <td>RO</td>\n      <td>16444</td>\n      <td>17029</td>\n      <td>3</td>\n      <td>53147</td>\n      <td>46774</td>\n      <td>22179.17</td>\n      <td>0</td>\n      <td>1</td>\n      <td>0</td>\n      <td>0</td>\n      <td>0</td>\n    </tr>\n    <tr>\n      <th>5</th>\n      <td>COLORADO D OESTE</td>\n      <td>RO</td>\n      <td>16227</td>\n      <td>18591</td>\n      <td>3</td>\n      <td>34612</td>\n      <td>34381</td>\n      <td>15300.88</td>\n      <td>0</td>\n      <td>1</td>\n      <td>0</td>\n      <td>0</td>\n      <td>0</td>\n    </tr>\n    <tr>\n      <th>...</th>\n      <td>...</td>\n      <td>...</td>\n      <td>...</td>\n      <td>...</td>\n      <td>...</td>\n      <td>...</td>\n      <td>...</td>\n      <td>...</td>\n      <td>...</td>\n      <td>...</td>\n      <td>...</td>\n      <td>...</td>\n      <td>...</td>\n    </tr>\n    <tr>\n      <th>5564</th>\n      <td>VARJAO</td>\n      <td>GO</td>\n      <td>3816</td>\n      <td>3659</td>\n      <td>3</td>\n      <td>14086</td>\n      <td>13050</td>\n      <td>14566.03</td>\n      <td>1</td>\n      <td>0</td>\n      <td>0</td>\n      <td>0</td>\n      <td>0</td>\n    </tr>\n    <tr>\n      <th>5565</th>\n      <td>VIANOPOLIS</td>\n      <td>GO</td>\n      <td>13746</td>\n      <td>12548</td>\n      <td>4</td>\n      <td>37777</td>\n      <td>33220</td>\n      <td>23237.24</td>\n      <td>1</td>\n      <td>0</td>\n      <td>0</td>\n      <td>0</td>\n      <td>0</td>\n    </tr>\n    <tr>\n      <th>5566</th>\n      <td>VICENTINOPOLIS</td>\n      <td>GO</td>\n      <td>8611</td>\n      <td>7371</td>\n      <td>3</td>\n      <td>26783</td>\n      <td>23511</td>\n      <td>39480.36</td>\n      <td>1</td>\n      <td>0</td>\n      <td>0</td>\n      <td>0</td>\n      <td>0</td>\n    </tr>\n    <tr>\n      <th>5567</th>\n      <td>VILA BOA</td>\n      <td>GO</td>\n      <td>6026</td>\n      <td>4735</td>\n      <td>3</td>\n      <td>17295</td>\n      <td>15646</td>\n      <td>18992.37</td>\n      <td>1</td>\n      <td>0</td>\n      <td>0</td>\n      <td>0</td>\n      <td>0</td>\n    </tr>\n    <tr>\n      <th>5568</th>\n      <td>VILA PROPICIO</td>\n      <td>GO</td>\n      <td>5758</td>\n      <td>5145</td>\n      <td>3</td>\n      <td>19148</td>\n      <td>16785</td>\n      <td>35691.39</td>\n      <td>1</td>\n      <td>0</td>\n      <td>0</td>\n      <td>0</td>\n      <td>0</td>\n    </tr>\n  </tbody>\n</table>\n<p>4419 rows × 13 columns</p>\n</div>"
     },
     "metadata": {},
     "execution_count": 19
    }
   ],
   "source": [
    "# Replacing commas with dots\n",
    "df['IDHM'] = df['IDHM'].apply(comma_to_dot)\n",
    "df['Pib_2014'] = df['Pib_2014'].apply(comma_to_dot)\n",
    "\n",
    "# Checando e removendo os as linhas com valores nulos das colunas de números inteiros\n",
    "df = df.drop(df[(df.PopEstimada_2018 == 0) | (df.PopCenso_2010 == 0) | (df.ReceitasRealizadas_2014 == 0) | (df.DespesasEmpenhadas_2014 == 0)].index)\n",
    "\n",
    "\n",
    "# Removendo os outliers\n",
    "# Pontos que estavam muito distantes outros valores\n",
    "df = df.drop(df[(df.Pib_2014 >= 50000)].index)\n",
    "# df = df.drop(df[(df.PopCenso_2010 >= 3000000)].index)\n",
    "\n",
    "# Gerando o csv de dados formatados para as etapas que utilizam o IDHM padrão\n",
    "df.to_csv(path_or_buf=r'data/DATA_F.csv')\n",
    "\n",
    "# Criando colunas booleanas para normalizar o valor em string de LocalUF \n",
    "df = pd.get_dummies(df, columns=['RegiaoBrasil'])\n",
    "\n",
    "# Criando o rankeamento do IDHM de acordo com valores de classificação fornecidos\n",
    "df['IDHM'] = df['IDHM'].apply(idh_to_rank)\n",
    "\n",
    "df"
   ]
  },
  {
   "cell_type": "code",
   "execution_count": 20,
   "metadata": {},
   "outputs": [],
   "source": [
    "# Gerando o csv de dados formatados para as próximas etapas que utilizam o IDHM com rankeamento\n",
    "df.to_csv(path_or_buf=r'data/DATA_F_rank.csv')"
   ]
  }
 ]
}