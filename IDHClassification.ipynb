{
 "metadata": {
  "language_info": {
   "codemirror_mode": {
    "name": "ipython",
    "version": 3
   },
   "file_extension": ".py",
   "mimetype": "text/x-python",
   "name": "python",
   "nbconvert_exporter": "python",
   "pygments_lexer": "ipython3",
   "version": "3.8.5-final"
  },
  "orig_nbformat": 2,
  "kernelspec": {
   "name": "python385jvsc74a57bd03578deb59bf7bfec47282bed83d2ac4d22fac4ed62f23c6e9094d8e9b3c925df",
   "display_name": "Python 3.8.5 64-bit ('victo': virtualenv)"
  },
  "metadata": {
   "interpreter": {
    "hash": "57baa5815c940fdaff4d14510622de9616cae602444507ba5d0b6727c008cbd6"
   }
  }
 },
 "nbformat": 4,
 "nbformat_minor": 2,
 "cells": [
  {
   "source": [
    "# IDH Classification\n",
    "\n",
    "Using the classification below, we use the ID3 tree decision to classificate the presented IDH\n",
    "\n",
    "    0,800 – 1,000 (muito alto)\n",
    "    0,700 – 0,799 (alto)\n",
    "    0,555 – 0,699 (médio)\n",
    "    0,350 – 0,554 (baixo)\n",
    "    0,0 – 0,349 (muito baixo)\n"
   ],
   "cell_type": "markdown",
   "metadata": {}
  },
  {
   "cell_type": "code",
   "execution_count": 1,
   "metadata": {},
   "outputs": [],
   "source": [
    "from sklearn import tree\n",
    "from sklearn.metrics import confusion_matrix\n",
    "import pandas as pd\n",
    "import numpy as np\n",
    "import random\n",
    "\n",
    "columns=['PopEstimada_2018','PopCenso_2010','IDHM','ReceitasRealizadas_2014','DespesasEmpenhadas_2014','Pib_2014','LocalUF_AC','LocalUF_AL','LocalUF_AM','LocalUF_AP','LocalUF_BA','LocalUF_CE','LocalUF_DF','LocalUF_ES','LocalUF_GO','LocalUF_MA','LocalUF_MG','LocalUF_MS','LocalUF_MT','LocalUF_PA','LocalUF_PB','LocalUF_PE','LocalUF_PI','LocalUF_PR','LocalUF_RJ','LocalUF_RN','LocalUF_RO','LocalUF_RR','LocalUF_RS','LocalUF_SC','LocalUF_SE','LocalUF_SP','LocalUF_TO']"
   ]
  },
  {
   "cell_type": "code",
   "execution_count": 2,
   "metadata": {},
   "outputs": [
    {
     "output_type": "execute_result",
     "data": {
      "text/plain": [
       "      PopEstimada_2018  PopCenso_2010  IDHM  ReceitasRealizadas_2014  \\\n",
       "0                23167          24392     3                    53490   \n",
       "1                 5438           6313     3                    22635   \n",
       "2                84813          78574     4                   169636   \n",
       "3                16444          17029     3                    53147   \n",
       "4                16227          18591     3                    34612   \n",
       "...                ...            ...   ...                      ...   \n",
       "4613             13746          12548     4                    37777   \n",
       "4614              8611           7371     3                    26783   \n",
       "4615              6026           4735     3                    17295   \n",
       "4616              5758           5145     3                    19148   \n",
       "4617           2974703        2570160     5                 20665448   \n",
       "\n",
       "      DespesasEmpenhadas_2014  Pib_2014  LocalUF_AC  LocalUF_AL  LocalUF_AM  \\\n",
       "0                       47577  16461.11           0           0           0   \n",
       "1                       19354  18346.17           0           0           0   \n",
       "2                      155473  20725.23           0           0           0   \n",
       "3                       46774  22179.17           0           0           0   \n",
       "4                       34381  15300.88           0           0           0   \n",
       "...                       ...       ...         ...         ...         ...   \n",
       "4613                    33220  23237.24           0           0           0   \n",
       "4614                    23511  39480.36           0           0           0   \n",
       "4615                    15646  18992.37           0           0           0   \n",
       "4616                    16785  35691.39           0           0           0   \n",
       "4617                 19008773  73971.05           0           0           0   \n",
       "\n",
       "      LocalUF_AP  ...  LocalUF_PR  LocalUF_RJ  LocalUF_RN  LocalUF_RO  \\\n",
       "0              0  ...           0           0           0           1   \n",
       "1              0  ...           0           0           0           1   \n",
       "2              0  ...           0           0           0           1   \n",
       "3              0  ...           0           0           0           1   \n",
       "4              0  ...           0           0           0           1   \n",
       "...          ...  ...         ...         ...         ...         ...   \n",
       "4613           0  ...           0           0           0           0   \n",
       "4614           0  ...           0           0           0           0   \n",
       "4615           0  ...           0           0           0           0   \n",
       "4616           0  ...           0           0           0           0   \n",
       "4617           0  ...           0           0           0           0   \n",
       "\n",
       "      LocalUF_RR  LocalUF_RS  LocalUF_SC  LocalUF_SE  LocalUF_SP  LocalUF_TO  \n",
       "0              0           0           0           0           0           0  \n",
       "1              0           0           0           0           0           0  \n",
       "2              0           0           0           0           0           0  \n",
       "3              0           0           0           0           0           0  \n",
       "4              0           0           0           0           0           0  \n",
       "...          ...         ...         ...         ...         ...         ...  \n",
       "4613           0           0           0           0           0           0  \n",
       "4614           0           0           0           0           0           0  \n",
       "4615           0           0           0           0           0           0  \n",
       "4616           0           0           0           0           0           0  \n",
       "4617           0           0           0           0           0           0  \n",
       "\n",
       "[4618 rows x 33 columns]"
      ],
      "text/html": "<div>\n<style scoped>\n    .dataframe tbody tr th:only-of-type {\n        vertical-align: middle;\n    }\n\n    .dataframe tbody tr th {\n        vertical-align: top;\n    }\n\n    .dataframe thead th {\n        text-align: right;\n    }\n</style>\n<table border=\"1\" class=\"dataframe\">\n  <thead>\n    <tr style=\"text-align: right;\">\n      <th></th>\n      <th>PopEstimada_2018</th>\n      <th>PopCenso_2010</th>\n      <th>IDHM</th>\n      <th>ReceitasRealizadas_2014</th>\n      <th>DespesasEmpenhadas_2014</th>\n      <th>Pib_2014</th>\n      <th>LocalUF_AC</th>\n      <th>LocalUF_AL</th>\n      <th>LocalUF_AM</th>\n      <th>LocalUF_AP</th>\n      <th>...</th>\n      <th>LocalUF_PR</th>\n      <th>LocalUF_RJ</th>\n      <th>LocalUF_RN</th>\n      <th>LocalUF_RO</th>\n      <th>LocalUF_RR</th>\n      <th>LocalUF_RS</th>\n      <th>LocalUF_SC</th>\n      <th>LocalUF_SE</th>\n      <th>LocalUF_SP</th>\n      <th>LocalUF_TO</th>\n    </tr>\n  </thead>\n  <tbody>\n    <tr>\n      <th>0</th>\n      <td>23167</td>\n      <td>24392</td>\n      <td>3</td>\n      <td>53490</td>\n      <td>47577</td>\n      <td>16461.11</td>\n      <td>0</td>\n      <td>0</td>\n      <td>0</td>\n      <td>0</td>\n      <td>...</td>\n      <td>0</td>\n      <td>0</td>\n      <td>0</td>\n      <td>1</td>\n      <td>0</td>\n      <td>0</td>\n      <td>0</td>\n      <td>0</td>\n      <td>0</td>\n      <td>0</td>\n    </tr>\n    <tr>\n      <th>1</th>\n      <td>5438</td>\n      <td>6313</td>\n      <td>3</td>\n      <td>22635</td>\n      <td>19354</td>\n      <td>18346.17</td>\n      <td>0</td>\n      <td>0</td>\n      <td>0</td>\n      <td>0</td>\n      <td>...</td>\n      <td>0</td>\n      <td>0</td>\n      <td>0</td>\n      <td>1</td>\n      <td>0</td>\n      <td>0</td>\n      <td>0</td>\n      <td>0</td>\n      <td>0</td>\n      <td>0</td>\n    </tr>\n    <tr>\n      <th>2</th>\n      <td>84813</td>\n      <td>78574</td>\n      <td>4</td>\n      <td>169636</td>\n      <td>155473</td>\n      <td>20725.23</td>\n      <td>0</td>\n      <td>0</td>\n      <td>0</td>\n      <td>0</td>\n      <td>...</td>\n      <td>0</td>\n      <td>0</td>\n      <td>0</td>\n      <td>1</td>\n      <td>0</td>\n      <td>0</td>\n      <td>0</td>\n      <td>0</td>\n      <td>0</td>\n      <td>0</td>\n    </tr>\n    <tr>\n      <th>3</th>\n      <td>16444</td>\n      <td>17029</td>\n      <td>3</td>\n      <td>53147</td>\n      <td>46774</td>\n      <td>22179.17</td>\n      <td>0</td>\n      <td>0</td>\n      <td>0</td>\n      <td>0</td>\n      <td>...</td>\n      <td>0</td>\n      <td>0</td>\n      <td>0</td>\n      <td>1</td>\n      <td>0</td>\n      <td>0</td>\n      <td>0</td>\n      <td>0</td>\n      <td>0</td>\n      <td>0</td>\n    </tr>\n    <tr>\n      <th>4</th>\n      <td>16227</td>\n      <td>18591</td>\n      <td>3</td>\n      <td>34612</td>\n      <td>34381</td>\n      <td>15300.88</td>\n      <td>0</td>\n      <td>0</td>\n      <td>0</td>\n      <td>0</td>\n      <td>...</td>\n      <td>0</td>\n      <td>0</td>\n      <td>0</td>\n      <td>1</td>\n      <td>0</td>\n      <td>0</td>\n      <td>0</td>\n      <td>0</td>\n      <td>0</td>\n      <td>0</td>\n    </tr>\n    <tr>\n      <th>...</th>\n      <td>...</td>\n      <td>...</td>\n      <td>...</td>\n      <td>...</td>\n      <td>...</td>\n      <td>...</td>\n      <td>...</td>\n      <td>...</td>\n      <td>...</td>\n      <td>...</td>\n      <td>...</td>\n      <td>...</td>\n      <td>...</td>\n      <td>...</td>\n      <td>...</td>\n      <td>...</td>\n      <td>...</td>\n      <td>...</td>\n      <td>...</td>\n      <td>...</td>\n      <td>...</td>\n    </tr>\n    <tr>\n      <th>4613</th>\n      <td>13746</td>\n      <td>12548</td>\n      <td>4</td>\n      <td>37777</td>\n      <td>33220</td>\n      <td>23237.24</td>\n      <td>0</td>\n      <td>0</td>\n      <td>0</td>\n      <td>0</td>\n      <td>...</td>\n      <td>0</td>\n      <td>0</td>\n      <td>0</td>\n      <td>0</td>\n      <td>0</td>\n      <td>0</td>\n      <td>0</td>\n      <td>0</td>\n      <td>0</td>\n      <td>0</td>\n    </tr>\n    <tr>\n      <th>4614</th>\n      <td>8611</td>\n      <td>7371</td>\n      <td>3</td>\n      <td>26783</td>\n      <td>23511</td>\n      <td>39480.36</td>\n      <td>0</td>\n      <td>0</td>\n      <td>0</td>\n      <td>0</td>\n      <td>...</td>\n      <td>0</td>\n      <td>0</td>\n      <td>0</td>\n      <td>0</td>\n      <td>0</td>\n      <td>0</td>\n      <td>0</td>\n      <td>0</td>\n      <td>0</td>\n      <td>0</td>\n    </tr>\n    <tr>\n      <th>4615</th>\n      <td>6026</td>\n      <td>4735</td>\n      <td>3</td>\n      <td>17295</td>\n      <td>15646</td>\n      <td>18992.37</td>\n      <td>0</td>\n      <td>0</td>\n      <td>0</td>\n      <td>0</td>\n      <td>...</td>\n      <td>0</td>\n      <td>0</td>\n      <td>0</td>\n      <td>0</td>\n      <td>0</td>\n      <td>0</td>\n      <td>0</td>\n      <td>0</td>\n      <td>0</td>\n      <td>0</td>\n    </tr>\n    <tr>\n      <th>4616</th>\n      <td>5758</td>\n      <td>5145</td>\n      <td>3</td>\n      <td>19148</td>\n      <td>16785</td>\n      <td>35691.39</td>\n      <td>0</td>\n      <td>0</td>\n      <td>0</td>\n      <td>0</td>\n      <td>...</td>\n      <td>0</td>\n      <td>0</td>\n      <td>0</td>\n      <td>0</td>\n      <td>0</td>\n      <td>0</td>\n      <td>0</td>\n      <td>0</td>\n      <td>0</td>\n      <td>0</td>\n    </tr>\n    <tr>\n      <th>4617</th>\n      <td>2974703</td>\n      <td>2570160</td>\n      <td>5</td>\n      <td>20665448</td>\n      <td>19008773</td>\n      <td>73971.05</td>\n      <td>0</td>\n      <td>0</td>\n      <td>0</td>\n      <td>0</td>\n      <td>...</td>\n      <td>0</td>\n      <td>0</td>\n      <td>0</td>\n      <td>0</td>\n      <td>0</td>\n      <td>0</td>\n      <td>0</td>\n      <td>0</td>\n      <td>0</td>\n      <td>0</td>\n    </tr>\n  </tbody>\n</table>\n<p>4618 rows × 33 columns</p>\n</div>"
     },
     "metadata": {},
     "execution_count": 2
    }
   ],
   "source": [
    "# Loading the formatted data\n",
    "data = pd.read_csv (r'data/DATA_F.csv')\n",
    "df = pd.DataFrame(data, columns=columns)\n",
    "df"
   ]
  },
  {
   "cell_type": "code",
   "execution_count": 3,
   "metadata": {},
   "outputs": [
    {
     "output_type": "execute_result",
     "data": {
      "text/plain": [
       "      PopEstimada_2018  PopCenso_2010  ReceitasRealizadas_2014  \\\n",
       "0                40905          39255                    93318   \n",
       "1                 4086           3878                    11372   \n",
       "2                 3870           3522                    12266   \n",
       "3                 3454           3510                    13291   \n",
       "4                30451          26577                    50810   \n",
       "...                ...            ...                      ...   \n",
       "4613             14130          13226                    34959   \n",
       "4614              8365           7659                    17847   \n",
       "4615             16984          15776                    43244   \n",
       "4616             17775          14662                    58995   \n",
       "4617              3040           2976                     9939   \n",
       "\n",
       "      DespesasEmpenhadas_2014  Pib_2014  LocalUF_AC  LocalUF_AL  LocalUF_AM  \\\n",
       "0                       78665  21478.26           0           0           0   \n",
       "1                        9902   6187.37           0           0           0   \n",
       "2                       10935   8295.32           0           0           0   \n",
       "3                       10778  12583.67           0           0           0   \n",
       "4                       49626  11737.29           0           0           0   \n",
       "...                       ...       ...         ...         ...         ...   \n",
       "4613                    33140  12360.86           0           0           0   \n",
       "4614                    16981   7190.09           0           0           0   \n",
       "4615                    37890  21479.11           0           0           0   \n",
       "4616                    45559  82101.14           0           0           0   \n",
       "4617                     8688   6447.02           0           0           0   \n",
       "\n",
       "      LocalUF_AP  LocalUF_BA  ...  LocalUF_PR  LocalUF_RJ  LocalUF_RN  \\\n",
       "0              0           0  ...           0           0           0   \n",
       "1              0           0  ...           0           0           0   \n",
       "2              0           0  ...           0           0           0   \n",
       "3              0           0  ...           1           0           0   \n",
       "4              0           1  ...           0           0           0   \n",
       "...          ...         ...  ...         ...         ...         ...   \n",
       "4613           0           0  ...           0           0           0   \n",
       "4614           0           0  ...           0           0           0   \n",
       "4615           0           0  ...           1           0           0   \n",
       "4616           0           0  ...           1           0           0   \n",
       "4617           0           0  ...           0           0           0   \n",
       "\n",
       "      LocalUF_RO  LocalUF_RR  LocalUF_RS  LocalUF_SC  LocalUF_SE  LocalUF_SP  \\\n",
       "0              0           0           0           0           0           0   \n",
       "1              0           0           0           0           0           0   \n",
       "2              0           0           0           0           0           0   \n",
       "3              0           0           0           0           0           0   \n",
       "4              0           0           0           0           0           0   \n",
       "...          ...         ...         ...         ...         ...         ...   \n",
       "4613           0           0           0           0           0           1   \n",
       "4614           0           0           0           0           0           0   \n",
       "4615           0           0           0           0           0           0   \n",
       "4616           0           0           0           0           0           0   \n",
       "4617           0           0           0           0           0           0   \n",
       "\n",
       "      LocalUF_TO  \n",
       "0              0  \n",
       "1              0  \n",
       "2              0  \n",
       "3              0  \n",
       "4              0  \n",
       "...          ...  \n",
       "4613           0  \n",
       "4614           1  \n",
       "4615           0  \n",
       "4616           0  \n",
       "4617           0  \n",
       "\n",
       "[4618 rows x 32 columns]"
      ],
      "text/html": "<div>\n<style scoped>\n    .dataframe tbody tr th:only-of-type {\n        vertical-align: middle;\n    }\n\n    .dataframe tbody tr th {\n        vertical-align: top;\n    }\n\n    .dataframe thead th {\n        text-align: right;\n    }\n</style>\n<table border=\"1\" class=\"dataframe\">\n  <thead>\n    <tr style=\"text-align: right;\">\n      <th></th>\n      <th>PopEstimada_2018</th>\n      <th>PopCenso_2010</th>\n      <th>ReceitasRealizadas_2014</th>\n      <th>DespesasEmpenhadas_2014</th>\n      <th>Pib_2014</th>\n      <th>LocalUF_AC</th>\n      <th>LocalUF_AL</th>\n      <th>LocalUF_AM</th>\n      <th>LocalUF_AP</th>\n      <th>LocalUF_BA</th>\n      <th>...</th>\n      <th>LocalUF_PR</th>\n      <th>LocalUF_RJ</th>\n      <th>LocalUF_RN</th>\n      <th>LocalUF_RO</th>\n      <th>LocalUF_RR</th>\n      <th>LocalUF_RS</th>\n      <th>LocalUF_SC</th>\n      <th>LocalUF_SE</th>\n      <th>LocalUF_SP</th>\n      <th>LocalUF_TO</th>\n    </tr>\n  </thead>\n  <tbody>\n    <tr>\n      <th>0</th>\n      <td>40905</td>\n      <td>39255</td>\n      <td>93318</td>\n      <td>78665</td>\n      <td>21478.26</td>\n      <td>0</td>\n      <td>0</td>\n      <td>0</td>\n      <td>0</td>\n      <td>0</td>\n      <td>...</td>\n      <td>0</td>\n      <td>0</td>\n      <td>0</td>\n      <td>0</td>\n      <td>0</td>\n      <td>0</td>\n      <td>0</td>\n      <td>0</td>\n      <td>0</td>\n      <td>0</td>\n    </tr>\n    <tr>\n      <th>1</th>\n      <td>4086</td>\n      <td>3878</td>\n      <td>11372</td>\n      <td>9902</td>\n      <td>6187.37</td>\n      <td>0</td>\n      <td>0</td>\n      <td>0</td>\n      <td>0</td>\n      <td>0</td>\n      <td>...</td>\n      <td>0</td>\n      <td>0</td>\n      <td>0</td>\n      <td>0</td>\n      <td>0</td>\n      <td>0</td>\n      <td>0</td>\n      <td>0</td>\n      <td>0</td>\n      <td>0</td>\n    </tr>\n    <tr>\n      <th>2</th>\n      <td>3870</td>\n      <td>3522</td>\n      <td>12266</td>\n      <td>10935</td>\n      <td>8295.32</td>\n      <td>0</td>\n      <td>0</td>\n      <td>0</td>\n      <td>0</td>\n      <td>0</td>\n      <td>...</td>\n      <td>0</td>\n      <td>0</td>\n      <td>0</td>\n      <td>0</td>\n      <td>0</td>\n      <td>0</td>\n      <td>0</td>\n      <td>0</td>\n      <td>0</td>\n      <td>0</td>\n    </tr>\n    <tr>\n      <th>3</th>\n      <td>3454</td>\n      <td>3510</td>\n      <td>13291</td>\n      <td>10778</td>\n      <td>12583.67</td>\n      <td>0</td>\n      <td>0</td>\n      <td>0</td>\n      <td>0</td>\n      <td>0</td>\n      <td>...</td>\n      <td>1</td>\n      <td>0</td>\n      <td>0</td>\n      <td>0</td>\n      <td>0</td>\n      <td>0</td>\n      <td>0</td>\n      <td>0</td>\n      <td>0</td>\n      <td>0</td>\n    </tr>\n    <tr>\n      <th>4</th>\n      <td>30451</td>\n      <td>26577</td>\n      <td>50810</td>\n      <td>49626</td>\n      <td>11737.29</td>\n      <td>0</td>\n      <td>0</td>\n      <td>0</td>\n      <td>0</td>\n      <td>1</td>\n      <td>...</td>\n      <td>0</td>\n      <td>0</td>\n      <td>0</td>\n      <td>0</td>\n      <td>0</td>\n      <td>0</td>\n      <td>0</td>\n      <td>0</td>\n      <td>0</td>\n      <td>0</td>\n    </tr>\n    <tr>\n      <th>...</th>\n      <td>...</td>\n      <td>...</td>\n      <td>...</td>\n      <td>...</td>\n      <td>...</td>\n      <td>...</td>\n      <td>...</td>\n      <td>...</td>\n      <td>...</td>\n      <td>...</td>\n      <td>...</td>\n      <td>...</td>\n      <td>...</td>\n      <td>...</td>\n      <td>...</td>\n      <td>...</td>\n      <td>...</td>\n      <td>...</td>\n      <td>...</td>\n      <td>...</td>\n      <td>...</td>\n    </tr>\n    <tr>\n      <th>4613</th>\n      <td>14130</td>\n      <td>13226</td>\n      <td>34959</td>\n      <td>33140</td>\n      <td>12360.86</td>\n      <td>0</td>\n      <td>0</td>\n      <td>0</td>\n      <td>0</td>\n      <td>0</td>\n      <td>...</td>\n      <td>0</td>\n      <td>0</td>\n      <td>0</td>\n      <td>0</td>\n      <td>0</td>\n      <td>0</td>\n      <td>0</td>\n      <td>0</td>\n      <td>1</td>\n      <td>0</td>\n    </tr>\n    <tr>\n      <th>4614</th>\n      <td>8365</td>\n      <td>7659</td>\n      <td>17847</td>\n      <td>16981</td>\n      <td>7190.09</td>\n      <td>0</td>\n      <td>0</td>\n      <td>0</td>\n      <td>0</td>\n      <td>0</td>\n      <td>...</td>\n      <td>0</td>\n      <td>0</td>\n      <td>0</td>\n      <td>0</td>\n      <td>0</td>\n      <td>0</td>\n      <td>0</td>\n      <td>0</td>\n      <td>0</td>\n      <td>1</td>\n    </tr>\n    <tr>\n      <th>4615</th>\n      <td>16984</td>\n      <td>15776</td>\n      <td>43244</td>\n      <td>37890</td>\n      <td>21479.11</td>\n      <td>0</td>\n      <td>0</td>\n      <td>0</td>\n      <td>0</td>\n      <td>0</td>\n      <td>...</td>\n      <td>1</td>\n      <td>0</td>\n      <td>0</td>\n      <td>0</td>\n      <td>0</td>\n      <td>0</td>\n      <td>0</td>\n      <td>0</td>\n      <td>0</td>\n      <td>0</td>\n    </tr>\n    <tr>\n      <th>4616</th>\n      <td>17775</td>\n      <td>14662</td>\n      <td>58995</td>\n      <td>45559</td>\n      <td>82101.14</td>\n      <td>0</td>\n      <td>0</td>\n      <td>0</td>\n      <td>0</td>\n      <td>0</td>\n      <td>...</td>\n      <td>1</td>\n      <td>0</td>\n      <td>0</td>\n      <td>0</td>\n      <td>0</td>\n      <td>0</td>\n      <td>0</td>\n      <td>0</td>\n      <td>0</td>\n      <td>0</td>\n    </tr>\n    <tr>\n      <th>4617</th>\n      <td>3040</td>\n      <td>2976</td>\n      <td>9939</td>\n      <td>8688</td>\n      <td>6447.02</td>\n      <td>0</td>\n      <td>0</td>\n      <td>0</td>\n      <td>0</td>\n      <td>0</td>\n      <td>...</td>\n      <td>0</td>\n      <td>0</td>\n      <td>0</td>\n      <td>0</td>\n      <td>0</td>\n      <td>0</td>\n      <td>0</td>\n      <td>0</td>\n      <td>0</td>\n      <td>0</td>\n    </tr>\n  </tbody>\n</table>\n<p>4618 rows × 32 columns</p>\n</div>"
     },
     "metadata": {},
     "execution_count": 3
    }
   ],
   "source": [
    "# Embaralhando dados\n",
    "df = df.sample(frac = 1).reset_index(drop = True)\n",
    "\n",
    "target = df.pop('IDHM')\n",
    "\n",
    "# Representando as strings como inteiros \n",
    "target = target.astype('int')\n",
    "\n",
    "\n",
    "# Treino 90% e teste 10%\n",
    "qtd_treino = int(len(df) * 0.9)\n",
    "x_treinamento = df[:qtd_treino]\n",
    "x_teste = df[qtd_treino:]\n",
    "y_treinamento = target[:qtd_treino]\n",
    "y_teste = target[qtd_treino:]\n",
    "df"
   ]
  },
  {
   "cell_type": "code",
   "execution_count": 4,
   "metadata": {},
   "outputs": [],
   "source": [
    "# Árvore de decisão com o critério de entropia\n",
    "clf = tree.DecisionTreeClassifier(criterion=\"entropy\", class_weight='balanced')"
   ]
  },
  {
   "cell_type": "code",
   "execution_count": 5,
   "metadata": {},
   "outputs": [],
   "source": [
    "# Treinamento\n",
    "irisTree = clf.fit(x_treinamento, y_treinamento)"
   ]
  },
  {
   "cell_type": "code",
   "execution_count": 6,
   "metadata": {},
   "outputs": [],
   "source": [
    "# Predição\n",
    "y_pred = irisTree.predict(x_teste)"
   ]
  },
  {
   "cell_type": "code",
   "execution_count": 7,
   "metadata": {},
   "outputs": [
    {
     "output_type": "stream",
     "name": "stdout",
     "text": [
      "[3 3 3 4 3 4 4 3 4 4 2 4 3 2 3 3 3 3 3 3 2 3 3 4 3 4 4 3 3 3 3 3 4 4 4 2 4\n 3 3 3 4 4 3 3 4 3 3 4 3 3 3 4 3 4 4 4 2 3 3 3 3 4 2 3 2 3 4 4 3 3 4 3 3 3\n 3 4 4 3 4 4 3 3 3 4 4 4 3 4 4 3 3 3 3 4 4 2 3 3 3 3 4 3 4 4 3 2 3 3 3 4 4\n 3 5 3 2 3 2 3 4 3 3 3 4 3 4 4 3 3 4 3 4 3 3 3 3 3 3 4 4 3 4 4 4 3 3 4 2 4\n 3 3 3 4 3 4 3 3 4 4 2 3 2 3 3 3 4 3 4 3 3 4 4 3 2 3 3 3 4 3 4 3 4 3 4 4 4\n 3 2 3 4 4 3 2 3 2 3 4 3 4 3 3 4 3 3 4 2 4 3 3 3 4 4 3 4 4 4 4 4 3 3 3 4 3\n 4 3 2 3 4 4 3 4 3 3 4 4 2 3 4 3 3 4 3 4 4 4 3 3 4 4 4 4 3 4 4 5 3 3 4 4 4\n 4 3 3 3 4 2 3 3 3 3 2 4 4 4 3 3 3 2 3 3 4 4 3 3 4 2 4 4 3 3 4 4 4 4 3 3 4\n 3 3 3 3 3 3 3 4 4 4 3 3 3 3 4 3 3 4 3 3 3 4 3 4 4 2 4 4 4 4 4 4 3 3 3 3 4\n 4 3 3 3 2 4 3 3 4 3 3 4 4 3 3 3 3 4 3 4 4 3 3 4 4 4 3 4 4 4 3 3 3 3 4 4 3\n 4 3 3 4 3 4 4 2 3 3 3 2 3 3 3 3 2 2 3 3 3 3 3 3 3 3 4 3 3 4 3 4 3 3 3 4 3\n 4 3 4 3 4 4 3 3 4 3 4 3 2 3 3 3 4 3 2 3 4 3 4 3 3 4 3 3 4 4 3 3 3 2 3 3 4\n 4 4 3 4 3 4 3 4 3 4 2 3 3 4 2 4 3 2]\n4156    3\n4157    3\n4158    3\n4159    3\n4160    3\n       ..\n4613    4\n4614    3\n4615    4\n4616    4\n4617    2\nName: IDHM, Length: 462, dtype: int32\n"
     ]
    }
   ],
   "source": [
    "print(y_pred)\n",
    "print(y_teste)"
   ]
  },
  {
   "cell_type": "code",
   "execution_count": 8,
   "metadata": {},
   "outputs": [
    {
     "output_type": "stream",
     "name": "stdout",
     "text": [
      "[[ 16  23   0   0]\n [ 20 182  46   0]\n [  1  40 130   2]\n [  0   0   2   0]]\n"
     ]
    }
   ],
   "source": [
    "MC = confusion_matrix(y_teste, y_pred)\n",
    "print(MC)"
   ]
  },
  {
   "cell_type": "code",
   "execution_count": 9,
   "metadata": {},
   "outputs": [
    {
     "output_type": "stream",
     "name": "stdout",
     "text": [
      "Acuracia: 0.42857142857142855\nPrecisão:  0.41025641025641024\nRecall:  0.43243243243243246\n"
     ]
    }
   ],
   "source": [
    "acuracia = (MC[0][0] + MC[1][1]) / np.sum(MC)\n",
    "precisao = MC[0][0] / (np.sum(MC[0]))\n",
    "recall = MC[0][0] / (np.sum(MC[:, 0]))\n",
    "\n",
    "print('Acuracia:', acuracia)\n",
    "print('Precisão: ', precisao)\n",
    "print('Recall: ', recall)"
   ]
  },
  {
   "cell_type": "code",
   "execution_count": null,
   "metadata": {},
   "outputs": [],
   "source": [
    "tree.plot_tree(clf, filled=True)"
   ]
  },
  {
   "cell_type": "code",
   "execution_count": null,
   "metadata": {},
   "outputs": [],
   "source": []
  }
 ]
}